{
 "cells": [
  {
   "cell_type": "code",
   "execution_count": 1,
   "id": "directed-alignment",
   "metadata": {},
   "outputs": [],
   "source": [
    "import os\n",
    "from os.path import join\n",
    "from os import listdir\n",
    "import pandas as pd\n",
    "import numpy as np\n",
    "import librosa\n",
    "\n",
    "from itertools import product\n",
    "\n",
    "import IPython.display as ipd\n",
    "import matplotlib.pyplot as plt\n",
    "\n",
    "from joblib import Parallel, delayed\n",
    "\n",
    "from sklearn.model_selection import StratifiedKFold\n",
    "from sklearn.decomposition import PCA, TruncatedSVD\n",
    "from sklearn.svm import SVC\n",
    "from sklearn.ensemble import RandomForestClassifier\n",
    "from sklearn.neighbors import KNeighborsClassifier\n",
    "\n",
    "from scipy.stats import skew\n",
    "\n",
    "from utils.main_utils import get_readers, get_chapters_info, collect_paths_with_meta\n",
    "from utils.scoring import cross_val"
   ]
  },
  {
   "cell_type": "code",
   "execution_count": 2,
   "id": "together-cooperation",
   "metadata": {},
   "outputs": [],
   "source": [
    "from typing import List, Tuple, Dict"
   ]
  },
  {
   "cell_type": "code",
   "execution_count": 3,
   "id": "killing-maximum",
   "metadata": {},
   "outputs": [],
   "source": [
    "audio_path = 'data/dev-clean/'\n",
    "SEED = 0\n",
    "\n",
    "N_CHROMA = 88\n",
    "FRAME_LENGTH = 1024          \n",
    "HOP_LENGTH = FRAME_LENGTH // 2"
   ]
  },
  {
   "cell_type": "code",
   "execution_count": 4,
   "id": "proud-kelly",
   "metadata": {},
   "outputs": [],
   "source": [
    "def get_features(sample_path: str) ->np.ndarray:\n",
    "    y, sr = librosa.load(sample_path)\n",
    "    chroma_stft = librosa.feature.chroma_stft(y=y, sr=sr, n_chroma=N_CHROMA, hop_length=HOP_LENGTH, n_fft=FRAME_LENGTH)\n",
    "    zcr = librosa.feature.zero_crossing_rate(y, hop_length=HOP_LENGTH, frame_length=FRAME_LENGTH)\n",
    "    rms = librosa.feature.rms(y, hop_length=HOP_LENGTH, frame_length=FRAME_LENGTH)\n",
    "\n",
    "    features = []\n",
    "    for el in [chroma_stft, zcr, rms]:\n",
    "        features.append(el.mean(1))\n",
    "        features.append(el.std(1))\n",
    "\n",
    "    return np.hstack(features)"
   ]
  },
  {
   "cell_type": "code",
   "execution_count": 5,
   "id": "composite-clone",
   "metadata": {},
   "outputs": [],
   "source": [
    "def process_batch(samples_paths: List[str]) -> Dict[str, np.ndarray]:\n",
    "    res = {}\n",
    "    for sample_path in samples_paths:\n",
    "        res[sample_path] = get_features(sample_path)\n",
    "    return res"
   ]
  },
  {
   "cell_type": "code",
   "execution_count": 6,
   "id": "promising-event",
   "metadata": {},
   "outputs": [],
   "source": [
    "def generate_features(meta_paths: pd.DataFrame, features_names: List[str],\n",
    "                      n_jobs: int, batch_size: int) -> pd.DataFrame:\n",
    "    \n",
    "    batch_number = int(np.ceil(len(meta_paths)/batch_size))\n",
    "    print(f'batch number: {batch_number}')\n",
    "    jobs = []\n",
    "    for i in range(batch_number):\n",
    "        jobs.append(delayed(process_batch)(meta_paths.path[i*batch_size:(i+1)*batch_size].values))\n",
    "    features = Parallel(n_jobs=n_jobs, verbose=10)(jobs)\n",
    "\n",
    "    features_dict = {}\n",
    "    for el in features:\n",
    "        for k,v in el.items():\n",
    "            features_dict[k] = v\n",
    "    features_df = pd.DataFrame(features_dict).T\n",
    "    features_df.columns = features_names\n",
    "    features_df.index.name = 'path'\n",
    "    \n",
    "    return features_df"
   ]
  },
  {
   "cell_type": "code",
   "execution_count": 7,
   "id": "weighted-carpet",
   "metadata": {},
   "outputs": [],
   "source": [
    "readers = get_readers('data/speakers.tsv', audio_path)\n",
    "meta_paths = collect_paths_with_meta(audio_path, readers)"
   ]
  },
  {
   "cell_type": "code",
   "execution_count": 8,
   "id": "vocal-armstrong",
   "metadata": {},
   "outputs": [
    {
     "data": {
      "text/plain": [
       "180"
      ]
     },
     "execution_count": 8,
     "metadata": {},
     "output_type": "execute_result"
    }
   ],
   "source": [
    "features_names = [f'chroma_stft_{i}_{aggr}' for i, aggr in product(range(N_CHROMA), ['mean', 'std'])]\n",
    "features_names += [f'{method}_{aggr}' for method, aggr in product(['zcr', 'rms',],\n",
    "                                                                 ['mean', 'std'])]\n",
    "len(features_names)"
   ]
  },
  {
   "cell_type": "code",
   "execution_count": 9,
   "id": "junior-angel",
   "metadata": {},
   "outputs": [
    {
     "name": "stdout",
     "output_type": "stream",
     "text": [
      "batch number: 58\n"
     ]
    },
    {
     "name": "stderr",
     "output_type": "stream",
     "text": [
      "[Parallel(n_jobs=12)]: Using backend LokyBackend with 12 concurrent workers.\n",
      "[Parallel(n_jobs=12)]: Done   1 tasks      | elapsed:   35.2s\n",
      "[Parallel(n_jobs=12)]: Done   8 tasks      | elapsed:   42.2s\n",
      "[Parallel(n_jobs=12)]: Done  17 tasks      | elapsed:  1.1min\n",
      "[Parallel(n_jobs=12)]: Done  26 tasks      | elapsed:  1.4min\n",
      "[Parallel(n_jobs=12)]: Done  41 out of  58 | elapsed:  1.8min remaining:   45.2s\n",
      "[Parallel(n_jobs=12)]: Done  47 out of  58 | elapsed:  2.1min remaining:   29.4s\n",
      "[Parallel(n_jobs=12)]: Done  53 out of  58 | elapsed:  2.2min remaining:   12.4s\n",
      "[Parallel(n_jobs=12)]: Done  58 out of  58 | elapsed:  2.3min finished\n"
     ]
    },
    {
     "data": {
      "text/html": [
       "<div>\n",
       "<style scoped>\n",
       "    .dataframe tbody tr th:only-of-type {\n",
       "        vertical-align: middle;\n",
       "    }\n",
       "\n",
       "    .dataframe tbody tr th {\n",
       "        vertical-align: top;\n",
       "    }\n",
       "\n",
       "    .dataframe thead th {\n",
       "        text-align: right;\n",
       "    }\n",
       "</style>\n",
       "<table border=\"1\" class=\"dataframe\">\n",
       "  <thead>\n",
       "    <tr style=\"text-align: right;\">\n",
       "      <th></th>\n",
       "      <th>chroma_stft_0_mean</th>\n",
       "      <th>chroma_stft_0_std</th>\n",
       "      <th>chroma_stft_1_mean</th>\n",
       "      <th>chroma_stft_1_std</th>\n",
       "      <th>chroma_stft_2_mean</th>\n",
       "      <th>chroma_stft_2_std</th>\n",
       "      <th>chroma_stft_3_mean</th>\n",
       "      <th>chroma_stft_3_std</th>\n",
       "      <th>chroma_stft_4_mean</th>\n",
       "      <th>chroma_stft_4_std</th>\n",
       "      <th>...</th>\n",
       "      <th>chroma_stft_85_mean</th>\n",
       "      <th>chroma_stft_85_std</th>\n",
       "      <th>chroma_stft_86_mean</th>\n",
       "      <th>chroma_stft_86_std</th>\n",
       "      <th>chroma_stft_87_mean</th>\n",
       "      <th>chroma_stft_87_std</th>\n",
       "      <th>zcr_mean</th>\n",
       "      <th>zcr_std</th>\n",
       "      <th>rms_mean</th>\n",
       "      <th>rms_std</th>\n",
       "    </tr>\n",
       "    <tr>\n",
       "      <th>path</th>\n",
       "      <th></th>\n",
       "      <th></th>\n",
       "      <th></th>\n",
       "      <th></th>\n",
       "      <th></th>\n",
       "      <th></th>\n",
       "      <th></th>\n",
       "      <th></th>\n",
       "      <th></th>\n",
       "      <th></th>\n",
       "      <th></th>\n",
       "      <th></th>\n",
       "      <th></th>\n",
       "      <th></th>\n",
       "      <th></th>\n",
       "      <th></th>\n",
       "      <th></th>\n",
       "      <th></th>\n",
       "      <th></th>\n",
       "      <th></th>\n",
       "      <th></th>\n",
       "    </tr>\n",
       "  </thead>\n",
       "  <tbody>\n",
       "    <tr>\n",
       "      <th>data/dev-clean/1919/142785/1919_142785_000005_000002.wav</th>\n",
       "      <td>0.257667</td>\n",
       "      <td>0.260941</td>\n",
       "      <td>0.260627</td>\n",
       "      <td>0.260974</td>\n",
       "      <td>0.264403</td>\n",
       "      <td>0.268702</td>\n",
       "      <td>0.265345</td>\n",
       "      <td>0.259730</td>\n",
       "      <td>0.259609</td>\n",
       "      <td>0.261992</td>\n",
       "      <td>...</td>\n",
       "      <td>0.287626</td>\n",
       "      <td>0.277788</td>\n",
       "      <td>0.274903</td>\n",
       "      <td>0.274345</td>\n",
       "      <td>0.274439</td>\n",
       "      <td>0.278929</td>\n",
       "      <td>0.138360</td>\n",
       "      <td>0.139642</td>\n",
       "      <td>0.073803</td>\n",
       "      <td>0.054839</td>\n",
       "    </tr>\n",
       "    <tr>\n",
       "      <th>data/dev-clean/1919/142785/1919_142785_000118_000001.wav</th>\n",
       "      <td>0.351155</td>\n",
       "      <td>0.339509</td>\n",
       "      <td>0.331138</td>\n",
       "      <td>0.324826</td>\n",
       "      <td>0.317682</td>\n",
       "      <td>0.311728</td>\n",
       "      <td>0.303800</td>\n",
       "      <td>0.296491</td>\n",
       "      <td>0.297595</td>\n",
       "      <td>0.300528</td>\n",
       "      <td>...</td>\n",
       "      <td>0.306288</td>\n",
       "      <td>0.305334</td>\n",
       "      <td>0.298272</td>\n",
       "      <td>0.298105</td>\n",
       "      <td>0.300521</td>\n",
       "      <td>0.307202</td>\n",
       "      <td>0.149536</td>\n",
       "      <td>0.135147</td>\n",
       "      <td>0.040383</td>\n",
       "      <td>0.034122</td>\n",
       "    </tr>\n",
       "    <tr>\n",
       "      <th>data/dev-clean/1919/142785/1919_142785_000035_000001.wav</th>\n",
       "      <td>0.216299</td>\n",
       "      <td>0.212288</td>\n",
       "      <td>0.216035</td>\n",
       "      <td>0.218830</td>\n",
       "      <td>0.221038</td>\n",
       "      <td>0.224242</td>\n",
       "      <td>0.225550</td>\n",
       "      <td>0.229322</td>\n",
       "      <td>0.233747</td>\n",
       "      <td>0.234828</td>\n",
       "      <td>...</td>\n",
       "      <td>0.255618</td>\n",
       "      <td>0.248775</td>\n",
       "      <td>0.244253</td>\n",
       "      <td>0.246457</td>\n",
       "      <td>0.252221</td>\n",
       "      <td>0.260247</td>\n",
       "      <td>0.144588</td>\n",
       "      <td>0.140320</td>\n",
       "      <td>0.046175</td>\n",
       "      <td>0.032386</td>\n",
       "    </tr>\n",
       "    <tr>\n",
       "      <th>data/dev-clean/1919/142785/1919_142785_000064_000003.wav</th>\n",
       "      <td>0.306730</td>\n",
       "      <td>0.291617</td>\n",
       "      <td>0.290036</td>\n",
       "      <td>0.291296</td>\n",
       "      <td>0.291558</td>\n",
       "      <td>0.287382</td>\n",
       "      <td>0.281830</td>\n",
       "      <td>0.282077</td>\n",
       "      <td>0.286006</td>\n",
       "      <td>0.288771</td>\n",
       "      <td>...</td>\n",
       "      <td>0.300353</td>\n",
       "      <td>0.301541</td>\n",
       "      <td>0.298994</td>\n",
       "      <td>0.295679</td>\n",
       "      <td>0.294720</td>\n",
       "      <td>0.303719</td>\n",
       "      <td>0.182428</td>\n",
       "      <td>0.169379</td>\n",
       "      <td>0.055092</td>\n",
       "      <td>0.043736</td>\n",
       "    </tr>\n",
       "    <tr>\n",
       "      <th>data/dev-clean/1919/142785/1919_142785_000071_000000.wav</th>\n",
       "      <td>0.275765</td>\n",
       "      <td>0.271270</td>\n",
       "      <td>0.266984</td>\n",
       "      <td>0.269012</td>\n",
       "      <td>0.272405</td>\n",
       "      <td>0.262805</td>\n",
       "      <td>0.270713</td>\n",
       "      <td>0.274939</td>\n",
       "      <td>0.273037</td>\n",
       "      <td>0.268459</td>\n",
       "      <td>...</td>\n",
       "      <td>0.278703</td>\n",
       "      <td>0.276195</td>\n",
       "      <td>0.276083</td>\n",
       "      <td>0.281105</td>\n",
       "      <td>0.271816</td>\n",
       "      <td>0.268462</td>\n",
       "      <td>0.202299</td>\n",
       "      <td>0.201331</td>\n",
       "      <td>0.073040</td>\n",
       "      <td>0.048869</td>\n",
       "    </tr>\n",
       "  </tbody>\n",
       "</table>\n",
       "<p>5 rows × 180 columns</p>\n",
       "</div>"
      ],
      "text/plain": [
       "                                                    chroma_stft_0_mean  \\\n",
       "path                                                                     \n",
       "data/dev-clean/1919/142785/1919_142785_000005_0...            0.257667   \n",
       "data/dev-clean/1919/142785/1919_142785_000118_0...            0.351155   \n",
       "data/dev-clean/1919/142785/1919_142785_000035_0...            0.216299   \n",
       "data/dev-clean/1919/142785/1919_142785_000064_0...            0.306730   \n",
       "data/dev-clean/1919/142785/1919_142785_000071_0...            0.275765   \n",
       "\n",
       "                                                    chroma_stft_0_std  \\\n",
       "path                                                                    \n",
       "data/dev-clean/1919/142785/1919_142785_000005_0...           0.260941   \n",
       "data/dev-clean/1919/142785/1919_142785_000118_0...           0.339509   \n",
       "data/dev-clean/1919/142785/1919_142785_000035_0...           0.212288   \n",
       "data/dev-clean/1919/142785/1919_142785_000064_0...           0.291617   \n",
       "data/dev-clean/1919/142785/1919_142785_000071_0...           0.271270   \n",
       "\n",
       "                                                    chroma_stft_1_mean  \\\n",
       "path                                                                     \n",
       "data/dev-clean/1919/142785/1919_142785_000005_0...            0.260627   \n",
       "data/dev-clean/1919/142785/1919_142785_000118_0...            0.331138   \n",
       "data/dev-clean/1919/142785/1919_142785_000035_0...            0.216035   \n",
       "data/dev-clean/1919/142785/1919_142785_000064_0...            0.290036   \n",
       "data/dev-clean/1919/142785/1919_142785_000071_0...            0.266984   \n",
       "\n",
       "                                                    chroma_stft_1_std  \\\n",
       "path                                                                    \n",
       "data/dev-clean/1919/142785/1919_142785_000005_0...           0.260974   \n",
       "data/dev-clean/1919/142785/1919_142785_000118_0...           0.324826   \n",
       "data/dev-clean/1919/142785/1919_142785_000035_0...           0.218830   \n",
       "data/dev-clean/1919/142785/1919_142785_000064_0...           0.291296   \n",
       "data/dev-clean/1919/142785/1919_142785_000071_0...           0.269012   \n",
       "\n",
       "                                                    chroma_stft_2_mean  \\\n",
       "path                                                                     \n",
       "data/dev-clean/1919/142785/1919_142785_000005_0...            0.264403   \n",
       "data/dev-clean/1919/142785/1919_142785_000118_0...            0.317682   \n",
       "data/dev-clean/1919/142785/1919_142785_000035_0...            0.221038   \n",
       "data/dev-clean/1919/142785/1919_142785_000064_0...            0.291558   \n",
       "data/dev-clean/1919/142785/1919_142785_000071_0...            0.272405   \n",
       "\n",
       "                                                    chroma_stft_2_std  \\\n",
       "path                                                                    \n",
       "data/dev-clean/1919/142785/1919_142785_000005_0...           0.268702   \n",
       "data/dev-clean/1919/142785/1919_142785_000118_0...           0.311728   \n",
       "data/dev-clean/1919/142785/1919_142785_000035_0...           0.224242   \n",
       "data/dev-clean/1919/142785/1919_142785_000064_0...           0.287382   \n",
       "data/dev-clean/1919/142785/1919_142785_000071_0...           0.262805   \n",
       "\n",
       "                                                    chroma_stft_3_mean  \\\n",
       "path                                                                     \n",
       "data/dev-clean/1919/142785/1919_142785_000005_0...            0.265345   \n",
       "data/dev-clean/1919/142785/1919_142785_000118_0...            0.303800   \n",
       "data/dev-clean/1919/142785/1919_142785_000035_0...            0.225550   \n",
       "data/dev-clean/1919/142785/1919_142785_000064_0...            0.281830   \n",
       "data/dev-clean/1919/142785/1919_142785_000071_0...            0.270713   \n",
       "\n",
       "                                                    chroma_stft_3_std  \\\n",
       "path                                                                    \n",
       "data/dev-clean/1919/142785/1919_142785_000005_0...           0.259730   \n",
       "data/dev-clean/1919/142785/1919_142785_000118_0...           0.296491   \n",
       "data/dev-clean/1919/142785/1919_142785_000035_0...           0.229322   \n",
       "data/dev-clean/1919/142785/1919_142785_000064_0...           0.282077   \n",
       "data/dev-clean/1919/142785/1919_142785_000071_0...           0.274939   \n",
       "\n",
       "                                                    chroma_stft_4_mean  \\\n",
       "path                                                                     \n",
       "data/dev-clean/1919/142785/1919_142785_000005_0...            0.259609   \n",
       "data/dev-clean/1919/142785/1919_142785_000118_0...            0.297595   \n",
       "data/dev-clean/1919/142785/1919_142785_000035_0...            0.233747   \n",
       "data/dev-clean/1919/142785/1919_142785_000064_0...            0.286006   \n",
       "data/dev-clean/1919/142785/1919_142785_000071_0...            0.273037   \n",
       "\n",
       "                                                    chroma_stft_4_std  ...  \\\n",
       "path                                                                   ...   \n",
       "data/dev-clean/1919/142785/1919_142785_000005_0...           0.261992  ...   \n",
       "data/dev-clean/1919/142785/1919_142785_000118_0...           0.300528  ...   \n",
       "data/dev-clean/1919/142785/1919_142785_000035_0...           0.234828  ...   \n",
       "data/dev-clean/1919/142785/1919_142785_000064_0...           0.288771  ...   \n",
       "data/dev-clean/1919/142785/1919_142785_000071_0...           0.268459  ...   \n",
       "\n",
       "                                                    chroma_stft_85_mean  \\\n",
       "path                                                                      \n",
       "data/dev-clean/1919/142785/1919_142785_000005_0...             0.287626   \n",
       "data/dev-clean/1919/142785/1919_142785_000118_0...             0.306288   \n",
       "data/dev-clean/1919/142785/1919_142785_000035_0...             0.255618   \n",
       "data/dev-clean/1919/142785/1919_142785_000064_0...             0.300353   \n",
       "data/dev-clean/1919/142785/1919_142785_000071_0...             0.278703   \n",
       "\n",
       "                                                    chroma_stft_85_std  \\\n",
       "path                                                                     \n",
       "data/dev-clean/1919/142785/1919_142785_000005_0...            0.277788   \n",
       "data/dev-clean/1919/142785/1919_142785_000118_0...            0.305334   \n",
       "data/dev-clean/1919/142785/1919_142785_000035_0...            0.248775   \n",
       "data/dev-clean/1919/142785/1919_142785_000064_0...            0.301541   \n",
       "data/dev-clean/1919/142785/1919_142785_000071_0...            0.276195   \n",
       "\n",
       "                                                    chroma_stft_86_mean  \\\n",
       "path                                                                      \n",
       "data/dev-clean/1919/142785/1919_142785_000005_0...             0.274903   \n",
       "data/dev-clean/1919/142785/1919_142785_000118_0...             0.298272   \n",
       "data/dev-clean/1919/142785/1919_142785_000035_0...             0.244253   \n",
       "data/dev-clean/1919/142785/1919_142785_000064_0...             0.298994   \n",
       "data/dev-clean/1919/142785/1919_142785_000071_0...             0.276083   \n",
       "\n",
       "                                                    chroma_stft_86_std  \\\n",
       "path                                                                     \n",
       "data/dev-clean/1919/142785/1919_142785_000005_0...            0.274345   \n",
       "data/dev-clean/1919/142785/1919_142785_000118_0...            0.298105   \n",
       "data/dev-clean/1919/142785/1919_142785_000035_0...            0.246457   \n",
       "data/dev-clean/1919/142785/1919_142785_000064_0...            0.295679   \n",
       "data/dev-clean/1919/142785/1919_142785_000071_0...            0.281105   \n",
       "\n",
       "                                                    chroma_stft_87_mean  \\\n",
       "path                                                                      \n",
       "data/dev-clean/1919/142785/1919_142785_000005_0...             0.274439   \n",
       "data/dev-clean/1919/142785/1919_142785_000118_0...             0.300521   \n",
       "data/dev-clean/1919/142785/1919_142785_000035_0...             0.252221   \n",
       "data/dev-clean/1919/142785/1919_142785_000064_0...             0.294720   \n",
       "data/dev-clean/1919/142785/1919_142785_000071_0...             0.271816   \n",
       "\n",
       "                                                    chroma_stft_87_std  \\\n",
       "path                                                                     \n",
       "data/dev-clean/1919/142785/1919_142785_000005_0...            0.278929   \n",
       "data/dev-clean/1919/142785/1919_142785_000118_0...            0.307202   \n",
       "data/dev-clean/1919/142785/1919_142785_000035_0...            0.260247   \n",
       "data/dev-clean/1919/142785/1919_142785_000064_0...            0.303719   \n",
       "data/dev-clean/1919/142785/1919_142785_000071_0...            0.268462   \n",
       "\n",
       "                                                    zcr_mean   zcr_std  \\\n",
       "path                                                                     \n",
       "data/dev-clean/1919/142785/1919_142785_000005_0...  0.138360  0.139642   \n",
       "data/dev-clean/1919/142785/1919_142785_000118_0...  0.149536  0.135147   \n",
       "data/dev-clean/1919/142785/1919_142785_000035_0...  0.144588  0.140320   \n",
       "data/dev-clean/1919/142785/1919_142785_000064_0...  0.182428  0.169379   \n",
       "data/dev-clean/1919/142785/1919_142785_000071_0...  0.202299  0.201331   \n",
       "\n",
       "                                                    rms_mean   rms_std  \n",
       "path                                                                    \n",
       "data/dev-clean/1919/142785/1919_142785_000005_0...  0.073803  0.054839  \n",
       "data/dev-clean/1919/142785/1919_142785_000118_0...  0.040383  0.034122  \n",
       "data/dev-clean/1919/142785/1919_142785_000035_0...  0.046175  0.032386  \n",
       "data/dev-clean/1919/142785/1919_142785_000064_0...  0.055092  0.043736  \n",
       "data/dev-clean/1919/142785/1919_142785_000071_0...  0.073040  0.048869  \n",
       "\n",
       "[5 rows x 180 columns]"
      ]
     },
     "execution_count": 9,
     "metadata": {},
     "output_type": "execute_result"
    }
   ],
   "source": [
    "features = generate_features(meta_paths, features_names, n_jobs=12, batch_size=100)\n",
    "features.head()"
   ]
  },
  {
   "cell_type": "code",
   "execution_count": 10,
   "id": "continent-weapon",
   "metadata": {},
   "outputs": [
    {
     "data": {
      "text/html": [
       "<div>\n",
       "<style scoped>\n",
       "    .dataframe tbody tr th:only-of-type {\n",
       "        vertical-align: middle;\n",
       "    }\n",
       "\n",
       "    .dataframe tbody tr th {\n",
       "        vertical-align: top;\n",
       "    }\n",
       "\n",
       "    .dataframe thead th {\n",
       "        text-align: right;\n",
       "    }\n",
       "</style>\n",
       "<table border=\"1\" class=\"dataframe\">\n",
       "  <thead>\n",
       "    <tr style=\"text-align: right;\">\n",
       "      <th></th>\n",
       "      <th>reader</th>\n",
       "      <th>gender</th>\n",
       "      <th>path</th>\n",
       "      <th>chroma_stft_0_mean</th>\n",
       "      <th>chroma_stft_0_std</th>\n",
       "      <th>chroma_stft_1_mean</th>\n",
       "      <th>chroma_stft_1_std</th>\n",
       "      <th>chroma_stft_2_mean</th>\n",
       "      <th>chroma_stft_2_std</th>\n",
       "      <th>chroma_stft_3_mean</th>\n",
       "      <th>...</th>\n",
       "      <th>chroma_stft_85_mean</th>\n",
       "      <th>chroma_stft_85_std</th>\n",
       "      <th>chroma_stft_86_mean</th>\n",
       "      <th>chroma_stft_86_std</th>\n",
       "      <th>chroma_stft_87_mean</th>\n",
       "      <th>chroma_stft_87_std</th>\n",
       "      <th>zcr_mean</th>\n",
       "      <th>zcr_std</th>\n",
       "      <th>rms_mean</th>\n",
       "      <th>rms_std</th>\n",
       "    </tr>\n",
       "  </thead>\n",
       "  <tbody>\n",
       "    <tr>\n",
       "      <th>0</th>\n",
       "      <td>1919</td>\n",
       "      <td>1</td>\n",
       "      <td>data/dev-clean/1919/142785/1919_142785_000005_...</td>\n",
       "      <td>0.257667</td>\n",
       "      <td>0.260941</td>\n",
       "      <td>0.260627</td>\n",
       "      <td>0.260974</td>\n",
       "      <td>0.264403</td>\n",
       "      <td>0.268702</td>\n",
       "      <td>0.265345</td>\n",
       "      <td>...</td>\n",
       "      <td>0.287626</td>\n",
       "      <td>0.277788</td>\n",
       "      <td>0.274903</td>\n",
       "      <td>0.274345</td>\n",
       "      <td>0.274439</td>\n",
       "      <td>0.278929</td>\n",
       "      <td>0.138360</td>\n",
       "      <td>0.139642</td>\n",
       "      <td>0.073803</td>\n",
       "      <td>0.054839</td>\n",
       "    </tr>\n",
       "    <tr>\n",
       "      <th>1</th>\n",
       "      <td>1919</td>\n",
       "      <td>1</td>\n",
       "      <td>data/dev-clean/1919/142785/1919_142785_000118_...</td>\n",
       "      <td>0.351155</td>\n",
       "      <td>0.339509</td>\n",
       "      <td>0.331138</td>\n",
       "      <td>0.324826</td>\n",
       "      <td>0.317682</td>\n",
       "      <td>0.311728</td>\n",
       "      <td>0.303800</td>\n",
       "      <td>...</td>\n",
       "      <td>0.306288</td>\n",
       "      <td>0.305334</td>\n",
       "      <td>0.298272</td>\n",
       "      <td>0.298105</td>\n",
       "      <td>0.300521</td>\n",
       "      <td>0.307202</td>\n",
       "      <td>0.149536</td>\n",
       "      <td>0.135147</td>\n",
       "      <td>0.040383</td>\n",
       "      <td>0.034122</td>\n",
       "    </tr>\n",
       "    <tr>\n",
       "      <th>2</th>\n",
       "      <td>1919</td>\n",
       "      <td>1</td>\n",
       "      <td>data/dev-clean/1919/142785/1919_142785_000035_...</td>\n",
       "      <td>0.216299</td>\n",
       "      <td>0.212288</td>\n",
       "      <td>0.216035</td>\n",
       "      <td>0.218830</td>\n",
       "      <td>0.221038</td>\n",
       "      <td>0.224242</td>\n",
       "      <td>0.225550</td>\n",
       "      <td>...</td>\n",
       "      <td>0.255618</td>\n",
       "      <td>0.248775</td>\n",
       "      <td>0.244253</td>\n",
       "      <td>0.246457</td>\n",
       "      <td>0.252221</td>\n",
       "      <td>0.260247</td>\n",
       "      <td>0.144588</td>\n",
       "      <td>0.140320</td>\n",
       "      <td>0.046175</td>\n",
       "      <td>0.032386</td>\n",
       "    </tr>\n",
       "    <tr>\n",
       "      <th>3</th>\n",
       "      <td>1919</td>\n",
       "      <td>1</td>\n",
       "      <td>data/dev-clean/1919/142785/1919_142785_000064_...</td>\n",
       "      <td>0.306730</td>\n",
       "      <td>0.291617</td>\n",
       "      <td>0.290036</td>\n",
       "      <td>0.291296</td>\n",
       "      <td>0.291558</td>\n",
       "      <td>0.287382</td>\n",
       "      <td>0.281830</td>\n",
       "      <td>...</td>\n",
       "      <td>0.300353</td>\n",
       "      <td>0.301541</td>\n",
       "      <td>0.298994</td>\n",
       "      <td>0.295679</td>\n",
       "      <td>0.294720</td>\n",
       "      <td>0.303719</td>\n",
       "      <td>0.182428</td>\n",
       "      <td>0.169379</td>\n",
       "      <td>0.055092</td>\n",
       "      <td>0.043736</td>\n",
       "    </tr>\n",
       "    <tr>\n",
       "      <th>4</th>\n",
       "      <td>1919</td>\n",
       "      <td>1</td>\n",
       "      <td>data/dev-clean/1919/142785/1919_142785_000071_...</td>\n",
       "      <td>0.275765</td>\n",
       "      <td>0.271270</td>\n",
       "      <td>0.266984</td>\n",
       "      <td>0.269012</td>\n",
       "      <td>0.272405</td>\n",
       "      <td>0.262805</td>\n",
       "      <td>0.270713</td>\n",
       "      <td>...</td>\n",
       "      <td>0.278703</td>\n",
       "      <td>0.276195</td>\n",
       "      <td>0.276083</td>\n",
       "      <td>0.281105</td>\n",
       "      <td>0.271816</td>\n",
       "      <td>0.268462</td>\n",
       "      <td>0.202299</td>\n",
       "      <td>0.201331</td>\n",
       "      <td>0.073040</td>\n",
       "      <td>0.048869</td>\n",
       "    </tr>\n",
       "  </tbody>\n",
       "</table>\n",
       "<p>5 rows × 183 columns</p>\n",
       "</div>"
      ],
      "text/plain": [
       "   reader  gender                                               path  \\\n",
       "0    1919       1  data/dev-clean/1919/142785/1919_142785_000005_...   \n",
       "1    1919       1  data/dev-clean/1919/142785/1919_142785_000118_...   \n",
       "2    1919       1  data/dev-clean/1919/142785/1919_142785_000035_...   \n",
       "3    1919       1  data/dev-clean/1919/142785/1919_142785_000064_...   \n",
       "4    1919       1  data/dev-clean/1919/142785/1919_142785_000071_...   \n",
       "\n",
       "   chroma_stft_0_mean  chroma_stft_0_std  chroma_stft_1_mean  \\\n",
       "0            0.257667           0.260941            0.260627   \n",
       "1            0.351155           0.339509            0.331138   \n",
       "2            0.216299           0.212288            0.216035   \n",
       "3            0.306730           0.291617            0.290036   \n",
       "4            0.275765           0.271270            0.266984   \n",
       "\n",
       "   chroma_stft_1_std  chroma_stft_2_mean  chroma_stft_2_std  \\\n",
       "0           0.260974            0.264403           0.268702   \n",
       "1           0.324826            0.317682           0.311728   \n",
       "2           0.218830            0.221038           0.224242   \n",
       "3           0.291296            0.291558           0.287382   \n",
       "4           0.269012            0.272405           0.262805   \n",
       "\n",
       "   chroma_stft_3_mean  ...  chroma_stft_85_mean  chroma_stft_85_std  \\\n",
       "0            0.265345  ...             0.287626            0.277788   \n",
       "1            0.303800  ...             0.306288            0.305334   \n",
       "2            0.225550  ...             0.255618            0.248775   \n",
       "3            0.281830  ...             0.300353            0.301541   \n",
       "4            0.270713  ...             0.278703            0.276195   \n",
       "\n",
       "   chroma_stft_86_mean  chroma_stft_86_std  chroma_stft_87_mean  \\\n",
       "0             0.274903            0.274345             0.274439   \n",
       "1             0.298272            0.298105             0.300521   \n",
       "2             0.244253            0.246457             0.252221   \n",
       "3             0.298994            0.295679             0.294720   \n",
       "4             0.276083            0.281105             0.271816   \n",
       "\n",
       "   chroma_stft_87_std  zcr_mean   zcr_std  rms_mean   rms_std  \n",
       "0            0.278929  0.138360  0.139642  0.073803  0.054839  \n",
       "1            0.307202  0.149536  0.135147  0.040383  0.034122  \n",
       "2            0.260247  0.144588  0.140320  0.046175  0.032386  \n",
       "3            0.303719  0.182428  0.169379  0.055092  0.043736  \n",
       "4            0.268462  0.202299  0.201331  0.073040  0.048869  \n",
       "\n",
       "[5 rows x 183 columns]"
      ]
     },
     "execution_count": 10,
     "metadata": {},
     "output_type": "execute_result"
    }
   ],
   "source": [
    "dataset = meta_paths.join(features, on='path')\n",
    "dataset.gender = dataset.gender.apply(lambda x: int(x=='F'))\n",
    "dataset.head()"
   ]
  },
  {
   "cell_type": "code",
   "execution_count": 11,
   "id": "packed-conflict",
   "metadata": {},
   "outputs": [
    {
     "data": {
      "text/plain": [
       "(5736, 183)"
      ]
     },
     "execution_count": 11,
     "metadata": {},
     "output_type": "execute_result"
    }
   ],
   "source": [
    "dataset.shape"
   ]
  },
  {
   "cell_type": "code",
   "execution_count": null,
   "id": "instrumental-matter",
   "metadata": {},
   "outputs": [],
   "source": []
  },
  {
   "cell_type": "code",
   "execution_count": 12,
   "id": "suited-health",
   "metadata": {},
   "outputs": [],
   "source": [
    "skf = StratifiedKFold(n_splits=5, shuffle=True, random_state=SEED)\n",
    "pca = PCA(n_components=50, random_state=SEED)\n",
    "svd = TruncatedSVD(n_components=50, random_state=SEED)"
   ]
  },
  {
   "cell_type": "code",
   "execution_count": 13,
   "id": "chicken-cabin",
   "metadata": {},
   "outputs": [],
   "source": [
    "first_feature_indx = dataset.columns.to_list().index('path') + 1"
   ]
  },
  {
   "cell_type": "code",
   "execution_count": null,
   "id": "equipped-helen",
   "metadata": {},
   "outputs": [],
   "source": []
  },
  {
   "cell_type": "code",
   "execution_count": 14,
   "id": "major-washer",
   "metadata": {},
   "outputs": [
    {
     "name": "stdout",
     "output_type": "stream",
     "text": [
      "{'accuracy': 0.66, 'f1': 0.62, 'matthews': 0.37}\n"
     ]
    }
   ],
   "source": [
    "clf = SVC(gamma='scale', kernel='poly', degree=2, random_state=SEED)\n",
    "_, mean_scores = cross_val(clf, readers, dataset, kf=skf, decomposer=pca, ffi=first_feature_indx)\n",
    "print(mean_scores)"
   ]
  },
  {
   "cell_type": "code",
   "execution_count": 15,
   "id": "plastic-swaziland",
   "metadata": {},
   "outputs": [
    {
     "name": "stdout",
     "output_type": "stream",
     "text": [
      "{'accuracy': 0.83, 'f1': 0.84, 'matthews': 0.68}\n"
     ]
    }
   ],
   "source": [
    "clf = SVC(gamma='scale', kernel='poly', degree=2, random_state=SEED)\n",
    "_, mean_scores = cross_val(clf, readers, dataset, kf=skf, decomposer=svd, ffi=first_feature_indx)\n",
    "print(mean_scores)"
   ]
  },
  {
   "cell_type": "code",
   "execution_count": 16,
   "id": "possible-cleanup",
   "metadata": {},
   "outputs": [
    {
     "name": "stdout",
     "output_type": "stream",
     "text": [
      "{'accuracy': 0.78, 'f1': 0.77, 'matthews': 0.59}\n"
     ]
    }
   ],
   "source": [
    "clf = SVC(gamma='scale', kernel='poly', degree=2, random_state=SEED)\n",
    "_, mean_scores = cross_val(clf, readers, dataset, kf=skf, decomposer=None, ffi=first_feature_indx)\n",
    "print(mean_scores)"
   ]
  },
  {
   "cell_type": "code",
   "execution_count": 17,
   "id": "sharp-crack",
   "metadata": {},
   "outputs": [
    {
     "name": "stdout",
     "output_type": "stream",
     "text": [
      "{'accuracy': 0.84, 'f1': 0.85, 'matthews': 0.7}\n"
     ]
    }
   ],
   "source": [
    "clf = SVC(gamma='scale', kernel='rbf', random_state=SEED)\n",
    "_, mean_scores = cross_val(clf, readers, dataset, kf=skf, decomposer=pca, ffi=first_feature_indx)\n",
    "print(mean_scores)"
   ]
  },
  {
   "cell_type": "code",
   "execution_count": 18,
   "id": "responsible-welding",
   "metadata": {},
   "outputs": [
    {
     "name": "stdout",
     "output_type": "stream",
     "text": [
      "{'accuracy': 0.84, 'f1': 0.85, 'matthews': 0.7}\n"
     ]
    }
   ],
   "source": [
    "clf = SVC(gamma='scale', kernel='rbf', random_state=SEED)\n",
    "_, mean_scores = cross_val(clf, readers, dataset, kf=skf, decomposer=svd, ffi=first_feature_indx)\n",
    "print(mean_scores)"
   ]
  },
  {
   "cell_type": "code",
   "execution_count": 19,
   "id": "quick-painting",
   "metadata": {},
   "outputs": [
    {
     "name": "stdout",
     "output_type": "stream",
     "text": [
      "{'accuracy': 0.85, 'f1': 0.85, 'matthews': 0.71}\n"
     ]
    }
   ],
   "source": [
    "clf = SVC(gamma='scale', kernel='rbf', random_state=SEED)\n",
    "_, mean_scores = cross_val(clf, readers, dataset, kf=skf, decomposer=None, ffi=first_feature_indx)\n",
    "print(mean_scores)"
   ]
  },
  {
   "cell_type": "code",
   "execution_count": null,
   "id": "regulated-proxy",
   "metadata": {},
   "outputs": [],
   "source": []
  },
  {
   "cell_type": "code",
   "execution_count": null,
   "id": "neutral-technology",
   "metadata": {},
   "outputs": [],
   "source": []
  },
  {
   "cell_type": "code",
   "execution_count": 20,
   "id": "broadband-manual",
   "metadata": {},
   "outputs": [
    {
     "name": "stdout",
     "output_type": "stream",
     "text": [
      "{'accuracy': 0.78, 'f1': 0.78, 'matthews': 0.59}\n"
     ]
    }
   ],
   "source": [
    "clf = KNeighborsClassifier(n_neighbors=3, p=2)\n",
    "_, mean_scores = cross_val(clf, readers, dataset, kf=skf, decomposer=pca, ffi=first_feature_indx)\n",
    "print(mean_scores)"
   ]
  },
  {
   "cell_type": "code",
   "execution_count": 21,
   "id": "sunset-option",
   "metadata": {},
   "outputs": [
    {
     "name": "stdout",
     "output_type": "stream",
     "text": [
      "{'accuracy': 0.78, 'f1': 0.78, 'matthews': 0.59}\n"
     ]
    }
   ],
   "source": [
    "clf = KNeighborsClassifier(n_neighbors=3, p=2)\n",
    "_, mean_scores = cross_val(clf, readers, dataset, kf=skf, decomposer=None, ffi=first_feature_indx)\n",
    "print(mean_scores)"
   ]
  },
  {
   "cell_type": "code",
   "execution_count": null,
   "id": "statutory-fiber",
   "metadata": {},
   "outputs": [],
   "source": []
  },
  {
   "cell_type": "code",
   "execution_count": 22,
   "id": "extended-prince",
   "metadata": {},
   "outputs": [
    {
     "name": "stdout",
     "output_type": "stream",
     "text": [
      "{'accuracy': 0.84, 'f1': 0.85, 'matthews': 0.69}\n"
     ]
    }
   ],
   "source": [
    "rf = RandomForestClassifier(random_state=SEED)\n",
    "_, mean_scores = cross_val(rf, readers, dataset, kf=skf, decomposer=pca, ffi=first_feature_indx)\n",
    "print(mean_scores)"
   ]
  },
  {
   "cell_type": "code",
   "execution_count": 23,
   "id": "vietnamese-capitol",
   "metadata": {},
   "outputs": [
    {
     "name": "stdout",
     "output_type": "stream",
     "text": [
      "{'accuracy': 0.84, 'f1': 0.85, 'matthews': 0.69}\n"
     ]
    }
   ],
   "source": [
    "rf = RandomForestClassifier(random_state=SEED)\n",
    "_, mean_scores = cross_val(rf, readers, dataset, kf=skf, decomposer=None, ffi=first_feature_indx)\n",
    "print(mean_scores)"
   ]
  },
  {
   "cell_type": "code",
   "execution_count": 24,
   "id": "pharmaceutical-quebec",
   "metadata": {},
   "outputs": [
    {
     "data": {
      "text/plain": [
       "['chroma_stft_36_std',\n",
       " 'chroma_stft_35_mean',\n",
       " 'chroma_stft_34_mean',\n",
       " 'chroma_stft_32_std',\n",
       " 'chroma_stft_36_mean',\n",
       " 'chroma_stft_33_mean',\n",
       " 'chroma_stft_37_mean',\n",
       " 'chroma_stft_34_std',\n",
       " 'chroma_stft_35_std',\n",
       " 'chroma_stft_31_std']"
      ]
     },
     "execution_count": 24,
     "metadata": {},
     "output_type": "execute_result"
    }
   ],
   "source": [
    "# Вычислим важность признаков\n",
    "fi_args = np.argsort(rf.feature_importances_)[::-1]\n",
    "[features_names[i] for i in fi_args][:10]"
   ]
  },
  {
   "cell_type": "code",
   "execution_count": null,
   "id": "abroad-marsh",
   "metadata": {},
   "outputs": [],
   "source": []
  },
  {
   "cell_type": "code",
   "execution_count": 25,
   "id": "verbal-flood",
   "metadata": {},
   "outputs": [],
   "source": [
    "reduced_columns = [el for el in dataset.columns if not el.startswith('chroma')]\n",
    "reduced_dataset = dataset.loc[:, reduced_columns].copy()"
   ]
  },
  {
   "cell_type": "code",
   "execution_count": 26,
   "id": "recovered-motor",
   "metadata": {},
   "outputs": [
    {
     "name": "stdout",
     "output_type": "stream",
     "text": [
      "{'accuracy': 0.52, 'f1': 0.53, 'matthews': 0.1}\n"
     ]
    }
   ],
   "source": [
    "rf = RandomForestClassifier(random_state=SEED)\n",
    "_, mean_scores = cross_val(rf, readers, reduced_dataset, kf=skf, decomposer=None, ffi=first_feature_indx)\n",
    "print(mean_scores)"
   ]
  },
  {
   "cell_type": "markdown",
   "id": "polar-ireland",
   "metadata": {},
   "source": [
    "* Благодаря отказу от использования признаков, основанных на вычислении средних коээфициентов фурье в непересекающихся оконах заданной ширины, удалось выбросить ограничение на минимальную длину аудиофайла.\n",
    "* Все еще самыми сильными признакми являются признаки, построенные на \"нотах\", то есть на тоне звука. Это поддтверждает исходную теорию, что существенное различие женского и мужского голоса приходится на высоту звучания. * Дополнительно хотелось бы обратить внимание на последние ячейки -- как сильно упало качество при отказе от признаков, основанных на нотах"
   ]
  },
  {
   "cell_type": "code",
   "execution_count": null,
   "id": "collect-yugoslavia",
   "metadata": {},
   "outputs": [],
   "source": []
  }
 ],
 "metadata": {
  "kernelspec": {
   "display_name": "Python 3",
   "language": "python",
   "name": "python3"
  },
  "language_info": {
   "codemirror_mode": {
    "name": "ipython",
    "version": 3
   },
   "file_extension": ".py",
   "mimetype": "text/x-python",
   "name": "python",
   "nbconvert_exporter": "python",
   "pygments_lexer": "ipython3",
   "version": "3.7.9"
  }
 },
 "nbformat": 4,
 "nbformat_minor": 5
}
